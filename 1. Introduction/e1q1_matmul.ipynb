{
 "cells": [
  {
   "cell_type": "code",
   "id": "initial_id",
   "metadata": {
    "collapsed": true,
    "ExecuteTime": {
     "end_time": "2025-10-08T08:36:14.697155Z",
     "start_time": "2025-10-08T08:36:14.630163Z"
    }
   },
   "source": [
    "import numpy as np\n",
    "import timeit\n",
    "\n",
    "A = np.array([[8, 7, 6], [5, 4, 3], [2, 1, 0]])\n",
    "print(A)\n",
    "\n",
    "B = np.arange(9).reshape(3, 3)\n",
    "print(B)"
   ],
   "outputs": [
    {
     "name": "stdout",
     "output_type": "stream",
     "text": [
      "[[8 7 6]\n",
      " [5 4 3]\n",
      " [2 1 0]]\n",
      "[[0 1 2]\n",
      " [3 4 5]\n",
      " [6 7 8]]\n"
     ]
    }
   ],
   "execution_count": 2
  },
  {
   "metadata": {
    "ExecuteTime": {
     "end_time": "2025-10-02T07:44:36.780852Z",
     "start_time": "2025-10-02T07:44:36.778522Z"
    }
   },
   "cell_type": "code",
   "source": [
    "C = A @ B\n",
    "# C = A.dot(B)\n",
    "\n",
    "print(C)"
   ],
   "id": "1521b7be81fa5843",
   "outputs": [
    {
     "name": "stdout",
     "output_type": "stream",
     "text": [
      "[[57 78 99]\n",
      " [30 42 54]\n",
      " [ 3  6  9]]\n"
     ]
    }
   ],
   "execution_count": 3
  },
  {
   "metadata": {
    "ExecuteTime": {
     "end_time": "2025-10-02T07:44:37.310601Z",
     "start_time": "2025-10-02T07:44:37.307954Z"
    }
   },
   "cell_type": "code",
   "source": [
    "def matrix_multiplication_b(A, B):\n",
    "    n = A.shape[0]\n",
    "    C = np.zeros((n, n), dtype=A.dtype)\n",
    "\n",
    "    for row in range(n):\n",
    "        for col in range(n):\n",
    "            for i in range(n):\n",
    "                C[row, col] += A[row, i] * B[i, col]\n",
    "\n",
    "    return C\n",
    "\n",
    "print(matrix_multiplication_b(A, B))"
   ],
   "id": "ad0b6c9a14355114",
   "outputs": [
    {
     "name": "stdout",
     "output_type": "stream",
     "text": [
      "[[57 78 99]\n",
      " [30 42 54]\n",
      " [ 3  6  9]]\n"
     ]
    }
   ],
   "execution_count": 4
  },
  {
   "metadata": {
    "ExecuteTime": {
     "end_time": "2025-10-02T07:44:37.528770Z",
     "start_time": "2025-10-02T07:44:37.526154Z"
    }
   },
   "cell_type": "code",
   "source": [
    "def matrix_multiplication_c(A, B):\n",
    "    n = A.shape[0]\n",
    "    C = np.zeros((n, n), dtype=A.dtype)\n",
    "\n",
    "    for col in range(n):\n",
    "        for row in range(n):\n",
    "            for i in range(n):\n",
    "                C[row, col] += A[row, i] * B[i, col]\n",
    "\n",
    "    return C\n",
    "\n",
    "print(matrix_multiplication_c(A, B))"
   ],
   "id": "fafb14f73b649ce0",
   "outputs": [
    {
     "name": "stdout",
     "output_type": "stream",
     "text": [
      "[[57 78 99]\n",
      " [30 42 54]\n",
      " [ 3  6  9]]\n"
     ]
    }
   ],
   "execution_count": 5
  },
  {
   "metadata": {
    "ExecuteTime": {
     "end_time": "2025-10-02T07:44:38.022675Z",
     "start_time": "2025-10-02T07:44:38.019780Z"
    }
   },
   "cell_type": "code",
   "source": [
    "def matrix_multiplication_d(A, B):\n",
    "    n = A.shape[0]\n",
    "    C = np.zeros((n, n), dtype=int)\n",
    "    for col in range(n):\n",
    "        for row in range(n):\n",
    "            C[row, col] = np.sum(A[row, :] * B[:, col])\n",
    "\n",
    "    return C\n",
    "\n",
    "print(matrix_multiplication_d(A, B))"
   ],
   "id": "a614dae0ab9aa104",
   "outputs": [
    {
     "name": "stdout",
     "output_type": "stream",
     "text": [
      "[[57 78 99]\n",
      " [30 42 54]\n",
      " [ 3  6  9]]\n"
     ]
    }
   ],
   "execution_count": 6
  },
  {
   "metadata": {
    "ExecuteTime": {
     "end_time": "2025-10-02T07:44:38.105082Z",
     "start_time": "2025-10-02T07:44:38.102711Z"
    }
   },
   "cell_type": "code",
   "source": [
    "def matrix_multiplication_e(A, B):\n",
    "    n = A.shape[0]\n",
    "    A_T = A.T\n",
    "    C = np.zeros((n, n), dtype=A.dtype)\n",
    "    for row in range(n):\n",
    "        for col in range(n):\n",
    "            C[row, col] = np.sum(A_T[:, row] * B[:, col])\n",
    "    return C\n",
    "\n",
    "print(matrix_multiplication_e(A, B))"
   ],
   "id": "20d0af41571263fd",
   "outputs": [
    {
     "name": "stdout",
     "output_type": "stream",
     "text": [
      "[[57 78 99]\n",
      " [30 42 54]\n",
      " [ 3  6  9]]\n"
     ]
    }
   ],
   "execution_count": 7
  },
  {
   "metadata": {
    "ExecuteTime": {
     "end_time": "2025-10-02T07:44:38.221111Z",
     "start_time": "2025-10-02T07:44:38.218579Z"
    }
   },
   "cell_type": "code",
   "source": [
    "def matrix_multiplication_f(A, B):\n",
    "    n = B.shape[0]\n",
    "    B_T = B.T\n",
    "    C = np.zeros((n, n), dtype=B.dtype)\n",
    "    for row in range(n):\n",
    "        for col in range(n):\n",
    "            C[row, col] = np.sum(A[row, :] * B_T[col, :])\n",
    "    return C\n",
    "\n",
    "print(matrix_multiplication_f(A, B))"
   ],
   "id": "69ce23ce6e2d8717",
   "outputs": [
    {
     "name": "stdout",
     "output_type": "stream",
     "text": [
      "[[57 78 99]\n",
      " [30 42 54]\n",
      " [ 3  6  9]]\n"
     ]
    }
   ],
   "execution_count": 8
  },
  {
   "metadata": {
    "ExecuteTime": {
     "end_time": "2025-10-02T07:44:38.271979Z",
     "start_time": "2025-10-02T07:44:38.269514Z"
    }
   },
   "cell_type": "code",
   "source": [
    "A10 = np.arange(100).reshape(10, 10)\n",
    "print(A10)\n",
    "\n",
    "B10 = np.arange(100).reshape(10, 10)\n",
    "print(B10)\n",
    "\n",
    "C10 = A10 @ B10\n",
    "# C = A.dot(B)\n",
    "\n",
    "print(C10)"
   ],
   "id": "9ddabbc4ee82eb18",
   "outputs": [
    {
     "name": "stdout",
     "output_type": "stream",
     "text": [
      "[[ 0  1  2  3  4  5  6  7  8  9]\n",
      " [10 11 12 13 14 15 16 17 18 19]\n",
      " [20 21 22 23 24 25 26 27 28 29]\n",
      " [30 31 32 33 34 35 36 37 38 39]\n",
      " [40 41 42 43 44 45 46 47 48 49]\n",
      " [50 51 52 53 54 55 56 57 58 59]\n",
      " [60 61 62 63 64 65 66 67 68 69]\n",
      " [70 71 72 73 74 75 76 77 78 79]\n",
      " [80 81 82 83 84 85 86 87 88 89]\n",
      " [90 91 92 93 94 95 96 97 98 99]]\n",
      "[[ 0  1  2  3  4  5  6  7  8  9]\n",
      " [10 11 12 13 14 15 16 17 18 19]\n",
      " [20 21 22 23 24 25 26 27 28 29]\n",
      " [30 31 32 33 34 35 36 37 38 39]\n",
      " [40 41 42 43 44 45 46 47 48 49]\n",
      " [50 51 52 53 54 55 56 57 58 59]\n",
      " [60 61 62 63 64 65 66 67 68 69]\n",
      " [70 71 72 73 74 75 76 77 78 79]\n",
      " [80 81 82 83 84 85 86 87 88 89]\n",
      " [90 91 92 93 94 95 96 97 98 99]]\n",
      "[[ 2850  2895  2940  2985  3030  3075  3120  3165  3210  3255]\n",
      " [ 7350  7495  7640  7785  7930  8075  8220  8365  8510  8655]\n",
      " [11850 12095 12340 12585 12830 13075 13320 13565 13810 14055]\n",
      " [16350 16695 17040 17385 17730 18075 18420 18765 19110 19455]\n",
      " [20850 21295 21740 22185 22630 23075 23520 23965 24410 24855]\n",
      " [25350 25895 26440 26985 27530 28075 28620 29165 29710 30255]\n",
      " [29850 30495 31140 31785 32430 33075 33720 34365 35010 35655]\n",
      " [34350 35095 35840 36585 37330 38075 38820 39565 40310 41055]\n",
      " [38850 39695 40540 41385 42230 43075 43920 44765 45610 46455]\n",
      " [43350 44295 45240 46185 47130 48075 49020 49965 50910 51855]]\n"
     ]
    }
   ],
   "execution_count": 9
  },
  {
   "metadata": {
    "ExecuteTime": {
     "end_time": "2025-10-02T07:44:38.427146Z",
     "start_time": "2025-10-02T07:44:38.421687Z"
    }
   },
   "cell_type": "code",
   "source": [
    "print(timeit.timeit(lambda: matrix_multiplication_b(A10, B10), number=1))\n",
    "print(timeit.timeit(lambda: matrix_multiplication_c(A10, B10), number=1))\n",
    "print(timeit.timeit(lambda: matrix_multiplication_d(A10, B10), number=1))\n",
    "print(timeit.timeit(lambda: matrix_multiplication_e(A10, B10), number=1))\n",
    "print(timeit.timeit(lambda: matrix_multiplication_f(A10, B10), number=1))"
   ],
   "id": "dbeb8d2690f2d316",
   "outputs": [
    {
     "name": "stdout",
     "output_type": "stream",
     "text": [
      "0.0003009590000147\n",
      "0.0002922919957200065\n",
      "0.00024020799901336432\n",
      "0.00021158400340937078\n",
      "0.000203875002625864\n"
     ]
    }
   ],
   "execution_count": 10
  },
  {
   "metadata": {
    "ExecuteTime": {
     "end_time": "2025-10-02T07:44:38.469496Z",
     "start_time": "2025-10-02T07:44:38.466425Z"
    }
   },
   "cell_type": "code",
   "source": [
    "A100 = np.arange(10000).reshape(100, 100)\n",
    "\n",
    "B100 = np.arange(10000).reshape(100, 100)\n",
    "\n",
    "C100 = A100 @ B100"
   ],
   "id": "a5b93789c6f036bb",
   "outputs": [],
   "execution_count": 11
  },
  {
   "metadata": {
    "ExecuteTime": {
     "end_time": "2025-10-02T07:44:39.136552Z",
     "start_time": "2025-10-02T07:44:38.518441Z"
    }
   },
   "cell_type": "code",
   "source": [
    "print(timeit.timeit(lambda: matrix_multiplication_b(A100, B100), number=1))\n",
    "print(timeit.timeit(lambda: matrix_multiplication_c(A100, B100), number=1))\n",
    "print(timeit.timeit(lambda: matrix_multiplication_d(A100, B100), number=1))\n",
    "print(timeit.timeit(lambda: matrix_multiplication_e(A100, B100), number=1))\n",
    "print(timeit.timeit(lambda: matrix_multiplication_f(A100, B100), number=1))"
   ],
   "id": "48fee77dc60a5214",
   "outputs": [
    {
     "name": "stdout",
     "output_type": "stream",
     "text": [
      "0.29044791699561756\n",
      "0.2647143340000184\n",
      "0.020456416998058558\n",
      "0.019505791999108624\n",
      "0.01981129100022372\n"
     ]
    }
   ],
   "execution_count": 12
  },
  {
   "metadata": {
    "ExecuteTime": {
     "end_time": "2025-10-08T08:36:19.443702Z",
     "start_time": "2025-10-08T08:36:18.913325Z"
    }
   },
   "cell_type": "code",
   "source": [
    "A1000 = np.arange(1000000).reshape(1000, 1000)\n",
    "\n",
    "B1000 = np.arange(1000000).reshape(1000, 1000)\n",
    "\n",
    "C1000 = A1000 @ B1000"
   ],
   "id": "fda169e99a1c963a",
   "outputs": [],
   "execution_count": 3
  },
  {
   "metadata": {
    "ExecuteTime": {
     "end_time": "2025-10-08T08:36:01.413370Z",
     "start_time": "2025-10-08T08:36:01.320565Z"
    }
   },
   "cell_type": "code",
   "source": [
    "print(timeit.timeit(lambda: matrix_multiplication_b(A1000, B1000), number=1))\n",
    "print(timeit.timeit(lambda: matrix_multiplication_c(A1000, B1000), number=1))\n",
    "print(timeit.timeit(lambda: matrix_multiplication_d(A1000, B1000), number=1))\n",
    "print(timeit.timeit(lambda: matrix_multiplication_e(A1000, B1000), number=1))\n",
    "print(timeit.timeit(lambda: matrix_multiplication_f(A1000, B1000), number=1))"
   ],
   "id": "df17fc928724701",
   "outputs": [
    {
     "ename": "NameError",
     "evalue": "name 'timeit' is not defined",
     "output_type": "error",
     "traceback": [
      "\u001B[31m---------------------------------------------------------------------------\u001B[39m",
      "\u001B[31mNameError\u001B[39m                                 Traceback (most recent call last)",
      "\u001B[36mCell\u001B[39m\u001B[36m \u001B[39m\u001B[32mIn[1]\u001B[39m\u001B[32m, line 1\u001B[39m\n\u001B[32m----> \u001B[39m\u001B[32m1\u001B[39m \u001B[38;5;28mprint\u001B[39m(\u001B[43mtimeit\u001B[49m.timeit(\u001B[38;5;28;01mlambda\u001B[39;00m: matrix_multiplication_b(A1000, B1000), number=\u001B[32m1\u001B[39m))\n\u001B[32m      2\u001B[39m \u001B[38;5;28mprint\u001B[39m(timeit.timeit(\u001B[38;5;28;01mlambda\u001B[39;00m: matrix_multiplication_c(A1000, B1000), number=\u001B[32m1\u001B[39m))\n\u001B[32m      3\u001B[39m \u001B[38;5;28mprint\u001B[39m(timeit.timeit(\u001B[38;5;28;01mlambda\u001B[39;00m: matrix_multiplication_d(A1000, B1000), number=\u001B[32m1\u001B[39m))\n",
      "\u001B[31mNameError\u001B[39m: name 'timeit' is not defined"
     ]
    }
   ],
   "execution_count": 1
  },
  {
   "metadata": {
    "ExecuteTime": {
     "end_time": "2025-10-08T08:36:37.079022Z",
     "start_time": "2025-10-08T08:36:37.075199Z"
    }
   },
   "cell_type": "code",
   "source": "print(timeit.timeit(lambda: (A1000 * B1000), number=1))",
   "id": "43f148bc68364083",
   "outputs": [
    {
     "name": "stdout",
     "output_type": "stream",
     "text": [
      "0.0017962090205401182\n"
     ]
    }
   ],
   "execution_count": 4
  }
 ],
 "metadata": {
  "kernelspec": {
   "display_name": "Python 3",
   "language": "python",
   "name": "python3"
  },
  "language_info": {
   "codemirror_mode": {
    "name": "ipython",
    "version": 2
   },
   "file_extension": ".py",
   "mimetype": "text/x-python",
   "name": "python",
   "nbconvert_exporter": "python",
   "pygments_lexer": "ipython2",
   "version": "2.7.6"
  }
 },
 "nbformat": 4,
 "nbformat_minor": 5
}
